{
 "cells": [
  {
   "cell_type": "code",
   "execution_count": 61,
   "id": "e93de91e",
   "metadata": {},
   "outputs": [],
   "source": [
    "import pandas as pd\n",
    "import numpy as np\n",
    "import re\n",
    "import nltk\n",
    "import os\n",
    "import seaborn as sns\n",
    "from nltk import word_tokenize\n",
    "from nltk.corpus import stopwords\n",
    "from nltk.corpus import wordnet\n",
    "from nltk.stem import WordNetLemmatizer\n",
    "from wordcloud import WordCloud, STOPWORDS\n",
    "from gensim.models import Word2Vec\n",
    "import logging\n",
    "import matplotlib.pyplot as plt\n",
    "%matplotlib inline"
   ]
  },
  {
   "cell_type": "code",
   "execution_count": 62,
   "id": "0e4a701f",
   "metadata": {},
   "outputs": [],
   "source": [
    "movie_reviews = pd.read_csv(\"Tonality\\IMDB_Dataset.csv\")"
   ]
  },
  {
   "cell_type": "code",
   "execution_count": 63,
   "id": "72a9f47d",
   "metadata": {},
   "outputs": [
    {
     "name": "stdout",
     "output_type": "stream",
     "text": [
      "(50000, 2)\n",
      "\n",
      "                                              review sentiment\n",
      "0  One of the other reviewers has mentioned that ...  positive\n",
      "1  A wonderful little production. <br /><br />The...  positive\n",
      "2  I thought this was a wonderful way to spend ti...  positive\n",
      "3  Basically there's a family where a little boy ...  negative\n",
      "4  Petter Mattei's \"Love in the Time of Money\" is...  positive\n",
      "\n",
      "Basically there's a family where a little boy (Jake) thinks there's a zombie in his closet & his parents are fighting all the time.<br /><br />This movie is slower than a soap opera... and suddenly, Jake decides to become Rambo and kill the zombie.<br /><br />OK, first of all when you're going to make a film you must Decide if its a thriller or a drama! As a drama the movie is watchable. Parents are divorcing & arguing like in real life. And then we have Jake with his closet which totally ruins all the film! I expected to see a BOOGEYMAN similar movie, and instead i watched a drama with some meaningless thriller spots.<br /><br />3 out of 10 just for the well playing parents & descent dialogs. As for the shots with Jake: just ignore them.\n",
      "\n"
     ]
    },
    {
     "data": {
      "image/png": "[encoded data removed]",
      "text/plain": [
       "<Figure size 432x288 with 1 Axes>"
      ]
     },
     "metadata": {
      "needs_background": "light"
     },
     "output_type": "display_data"
    }
   ],
   "source": [
    "def watch_data(data, n):\n",
    "    print(data.shape, end='\\n\\n')\n",
    "    print(data.head(), end='\\n\\n')\n",
    "    print(data[\"review\"][n], end='\\n\\n')\n",
    "    sns.countplot(x='sentiment', data=data)\n",
    "    \n",
    "watch_data(movie_reviews, 3)"
   ]
  },
  {
   "cell_type": "code",
   "execution_count": 64,
   "id": "d931358f",
   "metadata": {},
   "outputs": [],
   "source": [
    "def remove_tags(text):\n",
    "    result = re.sub(r'<[^>]+>', '', text)\n",
    "    return result\n",
    "\n",
    "def clean_text(text):\n",
    "    # Удаляем html теги\n",
    "    result = remove_tags(text)\n",
    "\n",
    "    # Удаляем все кроме слов\n",
    "    result = re.sub(r'[^a-zA-Z]', ' ', result)\n",
    "\n",
    "    # Уадляем одиночные символы\n",
    "    result = re.sub(r\"\\s+[a-zA-Z]\\s+\", ' ', result)\n",
    "\n",
    "    # Заменяем пробелы, которые идет подряд на одиночный пробел\n",
    "    result = re.sub(r'\\s+', ' ', result)\n",
    "\n",
    "    return result"
   ]
  },
  {
   "cell_type": "code",
   "execution_count": 65,
   "id": "273dd0c4",
   "metadata": {},
   "outputs": [],
   "source": [
    "X = []\n",
    "reviews = list(movie_reviews['review'])\n",
    "for rev in reviews:\n",
    "    X.append(clean_text(rev)) # Заполняем массив X обработанным текстом\n",
    "    \n",
    "y = movie_reviews['sentiment']\n",
    "# Каждый y = 'positive' и т.д. преобразуем в 1 ...\n",
    "y = np.array(list(map(lambda label: 1 if label==\"positive\" else 0, y)))"
   ]
  },
  {
   "cell_type": "code",
   "execution_count": 66,
   "id": "b0de581d",
   "metadata": {},
   "outputs": [
    {
     "name": "stdout",
     "output_type": "stream",
     "text": [
      "X_train = 40000\n",
      "X_test = 10000\n",
      "y_train = 40000\n",
      "y_test = 10000\n"
     ]
    }
   ],
   "source": [
    "from sklearn.model_selection import train_test_split\n",
    "X_train, X_test, y_train, y_test = train_test_split(X, y, test_size=0.20, random_state=34)\n",
    "print('X_train =', len(X_train))\n",
    "print('X_test =', len(X_test))\n",
    "print('y_train =', len(y_train))\n",
    "print('y_test =', len(y_test))"
   ]
  },
  {
   "cell_type": "code",
   "execution_count": 67,
   "id": "12185407",
   "metadata": {},
   "outputs": [
    {
     "name": "stdout",
     "output_type": "stream",
     "text": [
      "For film with so much promise it was disappointing thinly plotted and the acting ranging between horrendous and unbelievable The plot had more holes in it than swiss cheese and it the worst clich ending ve seen in movie for some time The final scene would have ripped my heart out if the entire movie hadn been so painful to begin with was numb From the very first scene one was left wondering if the sister was trying to reach out to her twin for help or simply scare her to death which would have been better for the audience and saved us from two hours of the worst acting ve seen to date It was horror in the true sense of the word \n"
     ]
    }
   ],
   "source": [
    "print(X_train[7])"
   ]
  },
  {
   "cell_type": "code",
   "execution_count": 68,
   "id": "d59eaec4",
   "metadata": {},
   "outputs": [],
   "source": [
    "def get_wordnet_pos(word):\n",
    "    tag = nltk.pos_tag([word])[0][1][0].upper()\n",
    "    tag_dict = {\"J\": wordnet.ADJ,\n",
    "                \"N\": wordnet.NOUN,\n",
    "                \"V\": wordnet.VERB,\n",
    "                \"R\": wordnet.ADV}\n",
    "    return tag_dict.get(tag, wordnet.NOUN)\n",
    "\n",
    "def preprocess_text(text):\n",
    "    tokens = word_tokenize(text)\n",
    "    tokens = [w for w in tokens if w not in stopwords.words(\"english\")]\n",
    "    \n",
    "    sentence = tokens\n",
    "    lemma = [lemmatizer.lemmatize(w, get_wordnet_pos(w)) for w in sentence]\n",
    "    \n",
    "    return lemma"
   ]
  },
  {
   "cell_type": "code",
   "execution_count": 69,
   "id": "05d5474c",
   "metadata": {},
   "outputs": [],
   "source": [
    "def get_train_preprocessing(X_train, y_train, cache_train_file):\n",
    "    cache_train = None\n",
    "    \n",
    "    if cache_train_file is not None:\n",
    "        try:\n",
    "            cache_train = pd.read_csv(cache_train_file)\n",
    "            print('Чтение тренировочных данных из кэша ...')\n",
    "            data_train = []\n",
    "            reviews = list(cache_train['review'])\n",
    "            for rev in reviews:\n",
    "                data_train.append(rev) \n",
    "        except:\n",
    "            print('Не удалось прочитать данные из кэша!')\n",
    "    \n",
    "    if cache_train is None:\n",
    "        lemmatizer = WordNetLemmatizer()\n",
    "        data_train = []\n",
    "        i = 0\n",
    "        for x in X_train:\n",
    "            x = preprocess_text(x)\n",
    "            data_train.append(x)\n",
    "            i += 1\n",
    "            if i % 100 == 0:\n",
    "                print(i/1000, '=>' , i)\n",
    "        cache = pd.DataFrame({'review':data_train, 'sentiment':y_train})\n",
    "        cache.to_csv(cache_train_file, index=False)\n",
    "    return data_train\n",
    "\n",
    "def get_test_preprocessing(X_test, y_test, cache_test_file):\n",
    "    cache_test = None\n",
    "    \n",
    "    if cache_test_file is not None:\n",
    "        try:\n",
    "            cache_test = pd.read_csv(cache_test_file)\n",
    "            print('Чтение тестовых данных из кэша ...')\n",
    "            data_test = []\n",
    "            reviews = list(cache_test['review'])\n",
    "            for rev in reviews:\n",
    "                data_test.append(rev) \n",
    "        except:\n",
    "            print('Не удалось прочитать данные из кэша!')\n",
    "    \n",
    "    if cache_test is None:\n",
    "        lemmatizer = WordNetLemmatizer()\n",
    "        data_test = []\n",
    "        i = 0\n",
    "        for x in X_test:\n",
    "            x = preprocess_text(x)\n",
    "            data_test.append(x)\n",
    "            i += 1\n",
    "            if i % 100 == 0:\n",
    "                print(i/1000, '=>' , i)\n",
    "        cache = pd.DataFrame({'review':data_test, 'sentiment':y_test})\n",
    "        cache.to_csv(cache_test_file, index=False)\n",
    "    return data_test\n",
    "\n",
    "def clean_cache(data):\n",
    "    print('Очистка кэша ...')\n",
    "    cleaned = []\n",
    "    for text in data:\n",
    "        text = clean_text(text)\n",
    "        text = word_tokenize(text)\n",
    "        cleaned.append(text)\n",
    "    return cleaned "
   ]
  },
  {
   "cell_type": "code",
   "execution_count": 70,
   "id": "65effbd9",
   "metadata": {},
   "outputs": [
    {
     "name": "stdout",
     "output_type": "stream",
     "text": [
      "Чтение тренировочных данных из кэша ...\n",
      "Очистка кэша ...\n"
     ]
    }
   ],
   "source": [
    "X_train = get_train_preprocessing(X_train, y_train, 'Tonality\\cache_train.csv')\n",
    "X_train = clean_cache(X_train)"
   ]
  },
  {
   "cell_type": "code",
   "execution_count": 71,
   "id": "60f3e9e3",
   "metadata": {},
   "outputs": [
    {
     "name": "stdout",
     "output_type": "stream",
     "text": [
      "Чтение тестовых данных из кэша ...\n",
      "Очистка кэша ...\n"
     ]
    }
   ],
   "source": [
    "X_test = get_test_preprocessing(X_test, y_test, 'Tonality\\cache_test.csv')\n",
    "X_test = clean_cache(X_test)"
   ]
  },
  {
   "cell_type": "code",
   "execution_count": 72,
   "id": "007f2ac6",
   "metadata": {},
   "outputs": [
    {
     "name": "stdout",
     "output_type": "stream",
     "text": [
      "Train => 40000 : 40000\n",
      "Test => 10000 : 10000\n"
     ]
    }
   ],
   "source": [
    "print('Train =>', len(X_train), ':', len(y_train))\n",
    "print('Test =>', len(X_test), ':', len(y_test))"
   ]
  },
  {
   "cell_type": "code",
   "execution_count": 73,
   "id": "1aa29fbf",
   "metadata": {},
   "outputs": [
    {
     "name": "stdout",
     "output_type": "stream",
     "text": [
      "['For', 'film', 'much', 'promise', 'disappoint', 'thinly', 'plot', 'act', 'range', 'horrendous']\n"
     ]
    }
   ],
   "source": [
    "print(X_train[7][:10])"
   ]
  },
  {
   "cell_type": "code",
   "execution_count": 74,
   "id": "d4835290",
   "metadata": {},
   "outputs": [
    {
     "data": {
      "image/png": "[encoded data removed]",
      "text/plain": [
       "<Figure size 432x288 with 1 Axes>"
      ]
     },
     "metadata": {
      "needs_background": "light"
     },
     "output_type": "display_data"
    }
   ],
   "source": [
    "combined_text = \" \".join(X_train[7])\n",
    "wc = WordCloud(background_color='white', max_words=50,\n",
    "            # update stopwords to include common words like film and movie\n",
    "            stopwords = STOPWORDS.update(['film','movie']))\n",
    "\n",
    "    # Generate and plot wordcloud\n",
    "plt.imshow(wc.generate(combined_text))\n",
    "plt.axis('off')\n",
    "plt.show()"
   ]
  },
  {
   "cell_type": "code",
   "execution_count": 86,
   "id": "676cd579",
   "metadata": {},
   "outputs": [],
   "source": [
    "def train_w2v_model(X_data):\n",
    "    logging.basicConfig(format='%(asctime)s : %(levelname)s : %(message)s', level=logging.INFO)\n",
    "    \n",
    "    model = Word2Vec(\n",
    "        min_count = 40,\n",
    "        window = 10,\n",
    "        vector_size = 300,\n",
    "        workers = 4,\n",
    "        sample=1e-3\n",
    "        )\n",
    "    \n",
    "    model.build_vocab(X_data)\n",
    "    \n",
    "    print('Обучение модели Word2Vec ...')\n",
    "    model.train(X_data, total_examples=model.corpus_count, epochs=10, report_delay=1)\n",
    "\n",
    "    model.init_sims(replace=True)\n",
    "\n",
    "    model_name = \"300features_40minwords_10context_10epochs\"\n",
    "    model_path = 'Tonality\\\\' + model_name\n",
    "    model.save(model_path)\n",
    "    \n",
    "def load_w2v_model(model_path):\n",
    "    model = Word2Vec.load(model_path)\n",
    "    \n",
    "    model = None\n",
    "    \n",
    "    if model_path is not None:\n",
    "        try:\n",
    "            model = Word2Vec.load(model_path)\n",
    "            print('Загрузка модели...')\n",
    "        except OSError:\n",
    "            print('Не удалось загрузить модель!')\n",
    "    \n",
    "    if model is None:\n",
    "        model = False\n",
    "    \n",
    "    return model"
   ]
  },
  {
   "cell_type": "code",
   "execution_count": 89,
   "id": "793a2710",
   "metadata": {},
   "outputs": [
    {
     "name": "stdout",
     "output_type": "stream",
     "text": [
      "Загрузка модели...\n",
      "Модель успешно загружена\n"
     ]
    }
   ],
   "source": [
    "X_data = X_train + X_test\n",
    "\n",
    "model = load_w2v_model('Tonality\\\\300features_40minwords_10context_10epochs')\n",
    "if model: \n",
    "    print(\"Модель успешно загружена\")\n",
    "else:\n",
    "    print(\"Модель не была загружена!\")\n",
    "    train_w2v_model(X_data)"
   ]
  },
  {
   "cell_type": "code",
   "execution_count": 90,
   "id": "eac98ec0",
   "metadata": {},
   "outputs": [
    {
     "data": {
      "text/plain": [
       "[('comedic', 0.6117552518844604),\n",
       " ('humour', 0.5829788446426392),\n",
       " ('humor', 0.5640249252319336),\n",
       " ('spoof', 0.5402818918228149),\n",
       " ('farce', 0.5338295102119446),\n",
       " ('slapstick', 0.527493417263031),\n",
       " ('satire', 0.5233971476554871),\n",
       " ('comedian', 0.4957903027534485),\n",
       " ('parody', 0.4483582079410553),\n",
       " ('Airplane', 0.42979180812835693)]"
      ]
     },
     "execution_count": 90,
     "metadata": {},
     "output_type": "execute_result"
    }
   ],
   "source": [
    "model.wv.most_similar(\"comedy\")"
   ]
  },
  {
   "cell_type": "code",
   "execution_count": 91,
   "id": "7d1786ea",
   "metadata": {},
   "outputs": [
    {
     "data": {
      "text/plain": [
       "'kitchen'"
      ]
     },
     "execution_count": 91,
     "metadata": {},
     "output_type": "execute_result"
    }
   ],
   "source": [
    "model.wv.doesnt_match(\"man woman child kitchen\".split())"
   ]
  },
  {
   "cell_type": "code",
   "execution_count": 92,
   "id": "c475411c",
   "metadata": {},
   "outputs": [
    {
     "data": {
      "text/plain": [
       "'drive'"
      ]
     },
     "execution_count": 92,
     "metadata": {},
     "output_type": "execute_result"
    }
   ],
   "source": [
    "model.wv.doesnt_match(\"car bicycle motorcycle drive\".split())"
   ]
  },
  {
   "cell_type": "code",
   "execution_count": 93,
   "id": "af8eceaa",
   "metadata": {},
   "outputs": [],
   "source": [
    "from gensim.models import KeyedVectors\n",
    "word_vectors = model.wv\n",
    "word_vectors.save(\"Tonality\\\\word2vec.wordvectors\")\n",
    "wv = KeyedVectors.load(\"Tonality\\\\word2vec.wordvectors\", mmap='r')"
   ]
  },
  {
   "cell_type": "code",
   "execution_count": 94,
   "id": "ce9befa7",
   "metadata": {},
   "outputs": [
    {
     "data": {
      "text/plain": [
       "array([-6.94660470e-02, -1.82371195e-02,  6.80305064e-02,  8.53868108e-03,\n",
       "       -8.48310590e-02, -3.41191776e-02, -6.40935674e-02, -1.33778621e-02,\n",
       "        7.62967300e-03, -6.71558827e-02,  5.08260503e-02, -3.23439613e-02,\n",
       "       -1.23879816e-02,  1.22607788e-02,  9.21291336e-02,  1.76610854e-02,\n",
       "       -7.60374814e-02, -1.08691361e-02,  9.64552909e-03, -4.32324829e-03,\n",
       "        9.88918245e-02,  2.05800943e-02,  1.92083754e-02, -9.15375501e-02,\n",
       "       -2.61050332e-02,  3.07635870e-02,  3.35012302e-02, -2.14801468e-02,\n",
       "        1.72105096e-02,  1.13480568e-01,  7.97747076e-02,  1.19959266e-04,\n",
       "        8.42049867e-02, -5.09323590e-02, -1.16530750e-02, -1.15683757e-01,\n",
       "       -4.16797074e-03,  3.06431316e-02, -3.62769179e-02, -7.66606852e-02,\n",
       "        9.15847793e-02,  4.66264971e-02,  4.77912501e-02,  1.14400007e-01,\n",
       "        4.08707093e-03, -1.08123995e-01, -1.49807371e-02, -1.77974571e-02,\n",
       "        9.63611470e-04, -1.71163585e-04, -7.87037145e-03, -2.02019364e-02,\n",
       "        6.78580925e-02, -2.01475807e-03, -9.39922780e-03, -3.93780060e-02,\n",
       "        5.78297209e-03,  4.89583462e-02, -6.56395704e-02, -3.12431566e-02,\n",
       "        7.97908939e-03,  4.55512516e-02, -1.91272311e-02, -4.28506918e-03,\n",
       "       -6.11044578e-02, -8.67545977e-03,  8.62246752e-02,  9.90774333e-02,\n",
       "       -9.55048576e-02, -2.92947069e-02,  1.24946027e-03,  8.04931819e-02,\n",
       "       -1.09690009e-02,  5.29600419e-02,  6.79081827e-02,  1.51257729e-02,\n",
       "       -5.53664677e-02, -3.57386805e-02,  3.32161747e-02,  2.41994439e-03,\n",
       "       -2.28624400e-02, -1.81902666e-02,  4.82531972e-02,  6.92313835e-02,\n",
       "        1.98815018e-02, -1.30579602e-02,  6.90182596e-02,  1.99755486e-02,\n",
       "        3.20923515e-02, -5.56135401e-02,  6.36579767e-02,  1.36384962e-03,\n",
       "       -3.55044752e-02,  8.37504193e-02,  3.49397734e-02,  3.59775051e-02,\n",
       "       -1.47008365e-02, -7.00962637e-03,  1.18989069e-02,  1.01924866e-01,\n",
       "       -4.95169684e-02,  6.09360486e-02,  4.43887264e-02,  1.34695843e-01,\n",
       "       -2.36994703e-03, -1.88526958e-02,  8.41712281e-02, -6.26475960e-02,\n",
       "       -1.03682436e-01,  8.47336426e-02, -2.25392692e-02,  7.02549219e-02,\n",
       "       -1.27849773e-01, -3.20905596e-02,  2.32903417e-02,  1.16748616e-01,\n",
       "       -1.09590022e-02,  1.50271997e-01,  2.96927579e-02, -1.77310649e-02,\n",
       "        2.42418293e-02, -4.07965928e-02,  1.28416056e-02,  1.41711337e-02,\n",
       "       -1.14854321e-01,  7.55091682e-02, -2.86023598e-02,  6.23153932e-02,\n",
       "        3.00996397e-02,  1.26782507e-02, -6.96366355e-02, -7.93377981e-02,\n",
       "       -3.42202298e-02,  1.20055117e-01, -1.78082418e-02,  7.17389733e-02,\n",
       "        3.18071768e-02,  5.10169864e-02,  4.60943803e-02,  7.75230750e-02,\n",
       "       -1.61409285e-02, -1.04576210e-02, -9.71709844e-03, -2.83624809e-02,\n",
       "        7.49147916e-03, -5.89666329e-03,  4.18516658e-02, -1.96316373e-02,\n",
       "        3.15048993e-02,  6.31324053e-02, -7.64880283e-03,  7.59436795e-03,\n",
       "        3.34540047e-02,  4.43074815e-02,  2.21376102e-02, -3.36499289e-02,\n",
       "        7.44666085e-02,  2.25291140e-02, -1.00333318e-01,  1.12480544e-01,\n",
       "       -5.30047994e-03, -5.51121160e-02, -5.16184568e-02, -2.38993783e-02,\n",
       "        1.03276320e-01, -5.59016392e-02, -1.17299175e-02, -5.91842532e-02,\n",
       "       -1.38209835e-02, -6.66041917e-04,  7.44909048e-02,  5.14497459e-02,\n",
       "        3.11678019e-03, -6.42388128e-04, -5.68561964e-02,  5.48757799e-02,\n",
       "       -5.56172431e-02, -1.99087970e-02,  8.82066637e-02, -3.12658772e-02,\n",
       "        1.52250826e-01,  9.03542340e-02,  8.52431878e-02, -1.20825529e-01,\n",
       "       -1.98714659e-02,  9.17365681e-03,  5.44892624e-02, -1.11388266e-02,\n",
       "       -4.44310904e-02,  6.82844520e-02,  8.11854526e-02, -8.71339627e-03,\n",
       "        1.37146279e-01, -1.31566087e-02, -5.99956103e-02,  1.76575750e-01,\n",
       "       -1.05436847e-01,  1.73468497e-02,  3.00675188e-03, -2.06681434e-02,\n",
       "        4.31327298e-02, -3.36371660e-02,  3.48183624e-02,  7.91129991e-02,\n",
       "        9.49357376e-02,  3.21098156e-02, -4.13058884e-02,  3.31898816e-02,\n",
       "        4.65801731e-02,  7.41872117e-02,  4.44889702e-02, -9.88157913e-02,\n",
       "       -2.92789359e-02,  7.02051297e-02, -8.30657482e-02, -2.62466948e-02,\n",
       "       -3.71519737e-02, -3.58775631e-02,  1.49470028e-02,  5.39567024e-02,\n",
       "       -1.42164499e-01, -2.11560223e-02, -1.91974491e-02,  9.87524092e-02,\n",
       "        6.28724545e-02,  6.20340109e-02,  4.77967113e-02, -2.43388433e-02,\n",
       "        2.13450324e-02,  2.21653897e-02,  3.89288589e-02, -5.24924397e-02,\n",
       "        1.16576152e-02, -1.50799170e-01,  5.11790328e-02, -4.29344140e-02,\n",
       "       -2.34766188e-03,  4.85275201e-02, -3.56707126e-02,  1.03788115e-01,\n",
       "        7.64853284e-02, -3.37438621e-02, -4.67665028e-03,  1.75174382e-02,\n",
       "        1.74599420e-02,  3.71753052e-02, -4.73778695e-02, -4.77859983e-03,\n",
       "        3.49835567e-02,  4.30748500e-02,  4.23896983e-02,  6.16519619e-03,\n",
       "        2.96656433e-02,  8.58391821e-03,  1.99648961e-02, -8.70561972e-03,\n",
       "       -2.18305755e-02,  5.03199454e-03, -5.85698858e-02,  3.50312702e-02,\n",
       "        6.53738379e-02, -3.75784189e-02,  4.98717539e-02,  8.24473947e-02,\n",
       "       -5.09747379e-02,  6.23269379e-02,  6.32385761e-02, -2.60835662e-02,\n",
       "       -6.34836555e-02,  3.67799290e-02, -1.13030402e-02, -7.03105405e-02,\n",
       "       -5.38327768e-02,  1.38519350e-02,  6.64781556e-02, -3.74108814e-02,\n",
       "        2.30545700e-02,  7.83405453e-02,  4.13681865e-02,  6.78355321e-02,\n",
       "       -1.49393482e-02, -1.76914074e-02, -1.10156558e-01, -3.14841866e-02,\n",
       "       -2.03855578e-02,  2.14150362e-02,  1.14405073e-01, -3.01496554e-02,\n",
       "       -3.17269005e-02,  4.38098200e-02,  6.31139008e-03, -8.11790675e-02,\n",
       "       -3.23678739e-02, -3.77211012e-02, -1.75572813e-01, -3.97664942e-02,\n",
       "       -7.58397486e-03,  9.89768505e-02, -3.59931625e-02, -3.65997362e-03],\n",
       "      dtype=float32)"
      ]
     },
     "execution_count": 94,
     "metadata": {},
     "output_type": "execute_result"
    }
   ],
   "source": [
    "wv['comedy']"
   ]
  },
  {
   "cell_type": "code",
   "execution_count": 95,
   "id": "290eef0f",
   "metadata": {},
   "outputs": [
    {
     "name": "stdout",
     "output_type": "stream",
     "text": [
      "Чтение тренировочных данных из кэша ...\n",
      "Очистка кэша ...\n",
      "Чтение тестовых данных из кэша ...\n",
      "Очистка кэша ...\n"
     ]
    }
   ],
   "source": [
    "def clean_nn(data):\n",
    "    print('Очистка кэша ...')\n",
    "    cleaned = []\n",
    "    for text in data:\n",
    "        text = clean_text(text)\n",
    "        cleaned.append(text)\n",
    "    return cleaned \n",
    "\n",
    "X_train = get_train_preprocessing(X_train, y_train, 'Tonality\\cache_train.csv')\n",
    "X_train = clean_nn(X_train)\n",
    "\n",
    "X_test = get_test_preprocessing(X_test, y_test, 'Tonality\\cache_test.csv')\n",
    "X_test = clean_nn(X_test)\n",
    "\n",
    "X_data = X_train + X_test"
   ]
  },
  {
   "cell_type": "code",
   "execution_count": 96,
   "id": "8393c1a6",
   "metadata": {},
   "outputs": [
    {
     "name": "stdout",
     "output_type": "stream",
     "text": [
      " know people consider trashy obnoxious It like American Pie something know people offend Universal plug since part plot advertising excusable This funny movie good dialogue good subtle wit good story good moral thankfully get sappy GREAT act cheesy end minor spoiler The basic premise classic story Shepherd boy Muniz lie much one believe Wolf Giamatti come along So get best friend Kaylee Bynes go drive Wolf crazy Frankie Muniz annoy role Jason Shepherd He handle suave confidence character perfectly well appear lack expression first glance really perfectly execute nonchalantness Amanda Bynes What say The girl get gift She funny talented versatile attractive month old need get California sometime soon In fact best friend part originally boy become girl soon maker saw Amanda interest Which work pretty well since part would pretty dull without blessing Bynes ability Paul Giamatti talented man While would play Marty Wolf evil diabolical Giamatti make jerk mind LIKEABLE jerk jerk livens screen rather intentionally dim And doubt many actor could pull psychological breakdown Wolf undergoes well All great movie Loved see Jaleel White able mock Loved see little reference built film one guest party scene director Shawn Levy another Bynes former co star Kenan Thompson Loved see Amanda outfit Get DVD It get kind great extra stuff lovely Ms Bynes guide menu \n"
     ]
    }
   ],
   "source": [
    "print(X_data[1])"
   ]
  },
  {
   "cell_type": "code",
   "execution_count": 97,
   "id": "5813ea52",
   "metadata": {},
   "outputs": [],
   "source": [
    "y_data = []\n",
    "for y in y_train:\n",
    "    y_data.append(y)\n",
    "for y in y_test:\n",
    "    y_data.append(y)"
   ]
  },
  {
   "cell_type": "code",
   "execution_count": 98,
   "id": "fcee671c",
   "metadata": {},
   "outputs": [
    {
     "name": "stdout",
     "output_type": "stream",
     "text": [
      "1\n"
     ]
    }
   ],
   "source": [
    "print(y_data[1])"
   ]
  },
  {
   "cell_type": "code",
   "execution_count": 99,
   "id": "372250e9",
   "metadata": {},
   "outputs": [],
   "source": [
    "from sklearn.feature_extraction.text import CountVectorizer\n",
    "vectorizer = CountVectorizer(analyzer = \"word\", tokenizer=None,\n",
    "                              preprocessor=None, stop_words = None,\n",
    "                              max_features=10000)\n",
    "\n",
    "train_data_features = vectorizer.fit_transform(X_data)\n",
    "train_data_features = train_data_features.toarray()"
   ]
  },
  {
   "cell_type": "code",
   "execution_count": 100,
   "id": "809fd690",
   "metadata": {},
   "outputs": [
    {
     "data": {
      "text/plain": [
       "(50000, 10000)"
      ]
     },
     "execution_count": 100,
     "metadata": {},
     "output_type": "execute_result"
    }
   ],
   "source": [
    "train_data_features.shape"
   ]
  },
  {
   "cell_type": "code",
   "execution_count": 101,
   "id": "c2059414",
   "metadata": {},
   "outputs": [],
   "source": [
    "CountVectorizedData=pd.DataFrame(train_data_features, columns=vectorizer.get_feature_names())\n",
    "CountVectorizedData['Sentiment']=y_data"
   ]
  },
  {
   "cell_type": "code",
   "execution_count": 102,
   "id": "253b5da6",
   "metadata": {},
   "outputs": [
    {
     "name": "stdout",
     "output_type": "stream",
     "text": [
      "(50000, 10001)\n"
     ]
    },
    {
     "data": {
      "text/html": [
       "<div>\n",
       "<style scoped>\n",
       "    .dataframe tbody tr th:only-of-type {\n",
       "        vertical-align: middle;\n",
       "    }\n",
       "\n",
       "    .dataframe tbody tr th {\n",
       "        vertical-align: top;\n",
       "    }\n",
       "\n",
       "    .dataframe thead th {\n",
       "        text-align: right;\n",
       "    }\n",
       "</style>\n",
       "<table border=\"1\" class=\"dataframe\">\n",
       "  <thead>\n",
       "    <tr style=\"text-align: right;\">\n",
       "      <th></th>\n",
       "      <th>aamir</th>\n",
       "      <th>aaron</th>\n",
       "      <th>ab</th>\n",
       "      <th>abandon</th>\n",
       "      <th>abbey</th>\n",
       "      <th>abbott</th>\n",
       "      <th>abc</th>\n",
       "      <th>abduct</th>\n",
       "      <th>abduction</th>\n",
       "      <th>ability</th>\n",
       "      <th>...</th>\n",
       "      <th>zoey</th>\n",
       "      <th>zombi</th>\n",
       "      <th>zombie</th>\n",
       "      <th>zombies</th>\n",
       "      <th>zone</th>\n",
       "      <th>zoo</th>\n",
       "      <th>zoom</th>\n",
       "      <th>zorro</th>\n",
       "      <th>zucco</th>\n",
       "      <th>Sentiment</th>\n",
       "    </tr>\n",
       "  </thead>\n",
       "  <tbody>\n",
       "    <tr>\n",
       "      <th>0</th>\n",
       "      <td>0</td>\n",
       "      <td>0</td>\n",
       "      <td>0</td>\n",
       "      <td>0</td>\n",
       "      <td>0</td>\n",
       "      <td>0</td>\n",
       "      <td>0</td>\n",
       "      <td>0</td>\n",
       "      <td>0</td>\n",
       "      <td>0</td>\n",
       "      <td>...</td>\n",
       "      <td>0</td>\n",
       "      <td>0</td>\n",
       "      <td>0</td>\n",
       "      <td>0</td>\n",
       "      <td>0</td>\n",
       "      <td>0</td>\n",
       "      <td>0</td>\n",
       "      <td>0</td>\n",
       "      <td>0</td>\n",
       "      <td>0</td>\n",
       "    </tr>\n",
       "    <tr>\n",
       "      <th>1</th>\n",
       "      <td>0</td>\n",
       "      <td>0</td>\n",
       "      <td>0</td>\n",
       "      <td>0</td>\n",
       "      <td>0</td>\n",
       "      <td>0</td>\n",
       "      <td>0</td>\n",
       "      <td>0</td>\n",
       "      <td>0</td>\n",
       "      <td>1</td>\n",
       "      <td>...</td>\n",
       "      <td>0</td>\n",
       "      <td>0</td>\n",
       "      <td>0</td>\n",
       "      <td>0</td>\n",
       "      <td>0</td>\n",
       "      <td>0</td>\n",
       "      <td>0</td>\n",
       "      <td>0</td>\n",
       "      <td>0</td>\n",
       "      <td>1</td>\n",
       "    </tr>\n",
       "    <tr>\n",
       "      <th>2</th>\n",
       "      <td>0</td>\n",
       "      <td>0</td>\n",
       "      <td>0</td>\n",
       "      <td>0</td>\n",
       "      <td>0</td>\n",
       "      <td>0</td>\n",
       "      <td>0</td>\n",
       "      <td>0</td>\n",
       "      <td>0</td>\n",
       "      <td>0</td>\n",
       "      <td>...</td>\n",
       "      <td>0</td>\n",
       "      <td>0</td>\n",
       "      <td>0</td>\n",
       "      <td>0</td>\n",
       "      <td>0</td>\n",
       "      <td>0</td>\n",
       "      <td>0</td>\n",
       "      <td>0</td>\n",
       "      <td>0</td>\n",
       "      <td>0</td>\n",
       "    </tr>\n",
       "    <tr>\n",
       "      <th>3</th>\n",
       "      <td>0</td>\n",
       "      <td>0</td>\n",
       "      <td>0</td>\n",
       "      <td>0</td>\n",
       "      <td>0</td>\n",
       "      <td>0</td>\n",
       "      <td>0</td>\n",
       "      <td>0</td>\n",
       "      <td>0</td>\n",
       "      <td>0</td>\n",
       "      <td>...</td>\n",
       "      <td>0</td>\n",
       "      <td>0</td>\n",
       "      <td>0</td>\n",
       "      <td>0</td>\n",
       "      <td>0</td>\n",
       "      <td>0</td>\n",
       "      <td>0</td>\n",
       "      <td>0</td>\n",
       "      <td>0</td>\n",
       "      <td>1</td>\n",
       "    </tr>\n",
       "    <tr>\n",
       "      <th>4</th>\n",
       "      <td>0</td>\n",
       "      <td>0</td>\n",
       "      <td>0</td>\n",
       "      <td>0</td>\n",
       "      <td>0</td>\n",
       "      <td>0</td>\n",
       "      <td>0</td>\n",
       "      <td>0</td>\n",
       "      <td>0</td>\n",
       "      <td>0</td>\n",
       "      <td>...</td>\n",
       "      <td>0</td>\n",
       "      <td>0</td>\n",
       "      <td>0</td>\n",
       "      <td>0</td>\n",
       "      <td>0</td>\n",
       "      <td>0</td>\n",
       "      <td>0</td>\n",
       "      <td>0</td>\n",
       "      <td>0</td>\n",
       "      <td>1</td>\n",
       "    </tr>\n",
       "  </tbody>\n",
       "</table>\n",
       "<p>5 rows × 10001 columns</p>\n",
       "</div>"
      ],
      "text/plain": [
       "   aamir  aaron  ab  abandon  abbey  abbott  abc  abduct  abduction  ability  \\\n",
       "0      0      0   0        0      0       0    0       0          0        0   \n",
       "1      0      0   0        0      0       0    0       0          0        1   \n",
       "2      0      0   0        0      0       0    0       0          0        0   \n",
       "3      0      0   0        0      0       0    0       0          0        0   \n",
       "4      0      0   0        0      0       0    0       0          0        0   \n",
       "\n",
       "   ...  zoey  zombi  zombie  zombies  zone  zoo  zoom  zorro  zucco  Sentiment  \n",
       "0  ...     0      0       0        0     0    0     0      0      0          0  \n",
       "1  ...     0      0       0        0     0    0     0      0      0          1  \n",
       "2  ...     0      0       0        0     0    0     0      0      0          0  \n",
       "3  ...     0      0       0        0     0    0     0      0      0          1  \n",
       "4  ...     0      0       0        0     0    0     0      0      0          1  \n",
       "\n",
       "[5 rows x 10001 columns]"
      ]
     },
     "execution_count": 102,
     "metadata": {},
     "output_type": "execute_result"
    }
   ],
   "source": [
    "print(CountVectorizedData.shape)\n",
    "CountVectorizedData.head()"
   ]
  },
  {
   "cell_type": "code",
   "execution_count": 103,
   "id": "54b40272",
   "metadata": {},
   "outputs": [
    {
     "data": {
      "text/plain": [
       "Index(['aamir', 'aaron', 'ab', 'abandon', 'abbey', 'abbott', 'abc', 'abduct',\n",
       "       'abduction', 'ability'],\n",
       "      dtype='object')"
      ]
     },
     "execution_count": 103,
     "metadata": {},
     "output_type": "execute_result"
    }
   ],
   "source": [
    "WordsVocab=CountVectorizedData.columns[:-1]\n",
    "WordsVocab[0:10]"
   ]
  },
  {
   "cell_type": "code",
   "execution_count": 104,
   "id": "ce5739eb",
   "metadata": {},
   "outputs": [
    {
     "data": {
      "text/plain": [
       "True"
      ]
     },
     "execution_count": 104,
     "metadata": {},
     "output_type": "execute_result"
    }
   ],
   "source": [
    "'zombie' in wv.key_to_index.keys()"
   ]
  },
  {
   "cell_type": "code",
   "execution_count": 105,
   "id": "33998127",
   "metadata": {},
   "outputs": [
    {
     "data": {
      "text/plain": [
       "[('undead', 0.6330141425132751),\n",
       " ('Zombie', 0.5931744575500488),\n",
       " ('monster', 0.5102360248565674),\n",
       " ('vampire', 0.4970807135105133),\n",
       " ('Zombies', 0.49323582649230957)]"
      ]
     },
     "execution_count": 105,
     "metadata": {},
     "output_type": "execute_result"
    }
   ],
   "source": [
    "wv.most_similar('zombie', topn=5)"
   ]
  },
  {
   "cell_type": "code",
   "execution_count": 106,
   "id": "fe6a1010",
   "metadata": {},
   "outputs": [],
   "source": [
    "def Text2Vec(text_data):\n",
    "    # Преобразуем текст в числовые данные\n",
    "    X = vectorizer.transform(text_data)\n",
    "    CountVecData=pd.DataFrame(X.toarray(), columns=vectorizer.get_feature_names())\n",
    "    \n",
    "    # Создание пустого фрейма данных для хранения предложений\n",
    "    W2Vec_Data=pd.DataFrame()\n",
    "    \n",
    "    # Перебираем каждую строку в поисках данных\n",
    "    for i in range(CountVecData.shape[0]):\n",
    "        if i % 1000 == 0:\n",
    "            print('[{}/50] => {}'.format(i / 1000, i))\n",
    "        \n",
    "        # Инициализируем предложение нулями\n",
    "        Sentence = np.zeros(300)\n",
    "        \n",
    "        # Перебираем каждое слово в предложении и, если оно присутствует в модели Word2Vec, сохраняем его вектор\n",
    "        for word in WordsVocab[CountVecData.iloc[i,:] >= 1]:\n",
    "            # print(word)\n",
    "            if word in wv.key_to_index.keys():    \n",
    "                Sentence=Sentence+wv[word]\n",
    "        # Добавляем предложение в датафрэйм\n",
    "        W2Vec_Data=W2Vec_Data.append(pd.DataFrame([Sentence]))\n",
    "    return(W2Vec_Data)"
   ]
  },
  {
   "cell_type": "code",
   "execution_count": 107,
   "id": "629174f4",
   "metadata": {},
   "outputs": [],
   "source": [
    "def load_ML_Data(cache_path):\n",
    "    cache_data = None\n",
    "    \n",
    "    if cache_path is not None:\n",
    "        try:\n",
    "            cache_data = pd.read_pickle(cache_path)\n",
    "            print('Чтение данных из кэша ...')\n",
    "        except:\n",
    "            print('Не удалось прочитать данные из кэша!')\n",
    "    \n",
    "    if cache_data is None:\n",
    "        cache_data = False\n",
    "        \n",
    "    return cache_data"
   ]
  },
  {
   "cell_type": "code",
   "execution_count": 109,
   "id": "b4ea6319",
   "metadata": {},
   "outputs": [
    {
     "name": "stdout",
     "output_type": "stream",
     "text": [
      "Чтение данных из кэша ...\n",
      "Данные успешно загружены из кэша\n",
      "<class 'pandas.core.frame.DataFrame'>\n",
      "RangeIndex: 50000 entries, 0 to 49999\n",
      "Columns: 301 entries, 0 to Sentiment\n",
      "dtypes: float64(300), int32(1)\n",
      "memory usage: 114.6 MB\n"
     ]
    },
    {
     "data": {
      "text/html": [
       "<div>\n",
       "<style scoped>\n",
       "    .dataframe tbody tr th:only-of-type {\n",
       "        vertical-align: middle;\n",
       "    }\n",
       "\n",
       "    .dataframe tbody tr th {\n",
       "        vertical-align: top;\n",
       "    }\n",
       "\n",
       "    .dataframe thead th {\n",
       "        text-align: right;\n",
       "    }\n",
       "</style>\n",
       "<table border=\"1\" class=\"dataframe\">\n",
       "  <thead>\n",
       "    <tr style=\"text-align: right;\">\n",
       "      <th></th>\n",
       "      <th>0</th>\n",
       "      <th>1</th>\n",
       "      <th>2</th>\n",
       "      <th>3</th>\n",
       "      <th>4</th>\n",
       "      <th>5</th>\n",
       "      <th>6</th>\n",
       "      <th>7</th>\n",
       "      <th>8</th>\n",
       "      <th>9</th>\n",
       "      <th>...</th>\n",
       "      <th>291</th>\n",
       "      <th>292</th>\n",
       "      <th>293</th>\n",
       "      <th>294</th>\n",
       "      <th>295</th>\n",
       "      <th>296</th>\n",
       "      <th>297</th>\n",
       "      <th>298</th>\n",
       "      <th>299</th>\n",
       "      <th>Sentiment</th>\n",
       "    </tr>\n",
       "  </thead>\n",
       "  <tbody>\n",
       "    <tr>\n",
       "      <th>0</th>\n",
       "      <td>0.209064</td>\n",
       "      <td>-1.041453</td>\n",
       "      <td>-0.051072</td>\n",
       "      <td>-1.278353</td>\n",
       "      <td>0.074339</td>\n",
       "      <td>0.541576</td>\n",
       "      <td>-1.189507</td>\n",
       "      <td>-1.340200</td>\n",
       "      <td>-0.374054</td>\n",
       "      <td>0.423989</td>\n",
       "      <td>...</td>\n",
       "      <td>-1.430041</td>\n",
       "      <td>-0.731737</td>\n",
       "      <td>-0.602550</td>\n",
       "      <td>-0.771445</td>\n",
       "      <td>-1.174658</td>\n",
       "      <td>0.137484</td>\n",
       "      <td>1.355606</td>\n",
       "      <td>-0.564687</td>\n",
       "      <td>-0.506003</td>\n",
       "      <td>0</td>\n",
       "    </tr>\n",
       "    <tr>\n",
       "      <th>1</th>\n",
       "      <td>-1.033997</td>\n",
       "      <td>-0.734089</td>\n",
       "      <td>1.246042</td>\n",
       "      <td>-1.379258</td>\n",
       "      <td>-1.493581</td>\n",
       "      <td>1.109292</td>\n",
       "      <td>-0.581578</td>\n",
       "      <td>-2.689771</td>\n",
       "      <td>0.645435</td>\n",
       "      <td>-0.143893</td>\n",
       "      <td>...</td>\n",
       "      <td>-3.245718</td>\n",
       "      <td>-1.332235</td>\n",
       "      <td>-0.637611</td>\n",
       "      <td>-3.557307</td>\n",
       "      <td>-3.420019</td>\n",
       "      <td>-0.464975</td>\n",
       "      <td>2.308958</td>\n",
       "      <td>-0.135784</td>\n",
       "      <td>0.559531</td>\n",
       "      <td>1</td>\n",
       "    </tr>\n",
       "    <tr>\n",
       "      <th>2</th>\n",
       "      <td>-0.251900</td>\n",
       "      <td>0.023798</td>\n",
       "      <td>1.058991</td>\n",
       "      <td>-1.668829</td>\n",
       "      <td>0.109816</td>\n",
       "      <td>0.526867</td>\n",
       "      <td>-0.644322</td>\n",
       "      <td>-1.475990</td>\n",
       "      <td>-0.821424</td>\n",
       "      <td>0.800708</td>\n",
       "      <td>...</td>\n",
       "      <td>-1.635752</td>\n",
       "      <td>0.687690</td>\n",
       "      <td>-0.332628</td>\n",
       "      <td>-2.282085</td>\n",
       "      <td>-1.282987</td>\n",
       "      <td>0.956784</td>\n",
       "      <td>1.259151</td>\n",
       "      <td>-0.247593</td>\n",
       "      <td>-0.008013</td>\n",
       "      <td>0</td>\n",
       "    </tr>\n",
       "    <tr>\n",
       "      <th>3</th>\n",
       "      <td>-0.898389</td>\n",
       "      <td>-1.001425</td>\n",
       "      <td>0.174482</td>\n",
       "      <td>-0.911301</td>\n",
       "      <td>-0.611055</td>\n",
       "      <td>0.359247</td>\n",
       "      <td>0.016223</td>\n",
       "      <td>-1.023431</td>\n",
       "      <td>-0.196303</td>\n",
       "      <td>-0.222088</td>\n",
       "      <td>...</td>\n",
       "      <td>-1.671042</td>\n",
       "      <td>0.036104</td>\n",
       "      <td>0.474964</td>\n",
       "      <td>-1.617957</td>\n",
       "      <td>-1.355517</td>\n",
       "      <td>-0.225269</td>\n",
       "      <td>1.017523</td>\n",
       "      <td>-0.799487</td>\n",
       "      <td>-0.570912</td>\n",
       "      <td>1</td>\n",
       "    </tr>\n",
       "    <tr>\n",
       "      <th>4</th>\n",
       "      <td>-0.224863</td>\n",
       "      <td>0.393978</td>\n",
       "      <td>-0.041550</td>\n",
       "      <td>-0.713631</td>\n",
       "      <td>-0.732334</td>\n",
       "      <td>-0.067383</td>\n",
       "      <td>-1.008623</td>\n",
       "      <td>-1.210305</td>\n",
       "      <td>0.551219</td>\n",
       "      <td>0.276769</td>\n",
       "      <td>...</td>\n",
       "      <td>-1.715263</td>\n",
       "      <td>0.142970</td>\n",
       "      <td>0.265695</td>\n",
       "      <td>-0.710987</td>\n",
       "      <td>-2.422062</td>\n",
       "      <td>0.583585</td>\n",
       "      <td>1.327371</td>\n",
       "      <td>-0.700736</td>\n",
       "      <td>-0.680903</td>\n",
       "      <td>1</td>\n",
       "    </tr>\n",
       "  </tbody>\n",
       "</table>\n",
       "<p>5 rows × 301 columns</p>\n",
       "</div>"
      ],
      "text/plain": [
       "          0         1         2         3         4         5         6  \\\n",
       "0  0.209064 -1.041453 -0.051072 -1.278353  0.074339  0.541576 -1.189507   \n",
       "1 -1.033997 -0.734089  1.246042 -1.379258 -1.493581  1.109292 -0.581578   \n",
       "2 -0.251900  0.023798  1.058991 -1.668829  0.109816  0.526867 -0.644322   \n",
       "3 -0.898389 -1.001425  0.174482 -0.911301 -0.611055  0.359247  0.016223   \n",
       "4 -0.224863  0.393978 -0.041550 -0.713631 -0.732334 -0.067383 -1.008623   \n",
       "\n",
       "          7         8         9  ...       291       292       293       294  \\\n",
       "0 -1.340200 -0.374054  0.423989  ... -1.430041 -0.731737 -0.602550 -0.771445   \n",
       "1 -2.689771  0.645435 -0.143893  ... -3.245718 -1.332235 -0.637611 -3.557307   \n",
       "2 -1.475990 -0.821424  0.800708  ... -1.635752  0.687690 -0.332628 -2.282085   \n",
       "3 -1.023431 -0.196303 -0.222088  ... -1.671042  0.036104  0.474964 -1.617957   \n",
       "4 -1.210305  0.551219  0.276769  ... -1.715263  0.142970  0.265695 -0.710987   \n",
       "\n",
       "        295       296       297       298       299  Sentiment  \n",
       "0 -1.174658  0.137484  1.355606 -0.564687 -0.506003          0  \n",
       "1 -3.420019 -0.464975  2.308958 -0.135784  0.559531          1  \n",
       "2 -1.282987  0.956784  1.259151 -0.247593 -0.008013          0  \n",
       "3 -1.355517 -0.225269  1.017523 -0.799487 -0.570912          1  \n",
       "4 -2.422062  0.583585  1.327371 -0.700736 -0.680903          1  \n",
       "\n",
       "[5 rows x 301 columns]"
      ]
     },
     "execution_count": 109,
     "metadata": {},
     "output_type": "execute_result"
    }
   ],
   "source": [
    "ML_Data = load_ML_Data(\"Tonality\\\\MachineLearning_Data.pkl\")\n",
    "\n",
    "if isinstance(ML_Data, pd.DataFrame): \n",
    "    print(\"Данные успешно загружены из кэша\")\n",
    "else:\n",
    "    print(\"Данные из кэша не были загружены\")\n",
    "    W2Vec_Data = Text2Vec(X_data_nn)\n",
    "\n",
    "    W2Vec_Data.shape\n",
    "    CountVectorizedData.shape # Сравниваем\n",
    "\n",
    "    W2Vec_Data.reset_index(inplace=True, drop=True)\n",
    "    W2Vec_Data['Sentiment']=CountVectorizedData['Sentiment']\n",
    "\n",
    "    ML_Data = W2Vec_Data\n",
    "    ML_data.to_pickle(\"Tonality\\\\MachineLearning_Data.pkl\")\n",
    "    \n",
    "ML_Data.info()\n",
    "ML_Data.head()"
   ]
  },
  {
   "cell_type": "code",
   "execution_count": 110,
   "id": "eb22b945",
   "metadata": {},
   "outputs": [
    {
     "name": "stdout",
     "output_type": "stream",
     "text": [
      "X_train = (40000, 300)\n",
      "X_test = (10000, 300)\n",
      "y_train = (40000,)\n",
      "y_test = (10000,)\n"
     ]
    }
   ],
   "source": [
    "Target = ML_Data.columns[-1]\n",
    "Predictors = ML_Data.columns[:-1]\n",
    "\n",
    "X=ML_Data[Predictors].values\n",
    "y=ML_Data[Target].values\n",
    "\n",
    "from sklearn.model_selection import train_test_split\n",
    "X_train, X_test, y_train, y_test = train_test_split(X, y, test_size=0.20, random_state=341)\n",
    "print('X_train =', X_train.shape)\n",
    "print('X_test =', X_test.shape)\n",
    "print('y_train =', y_train.shape)\n",
    "print('y_test =', y_test.shape)"
   ]
  },
  {
   "cell_type": "code",
   "execution_count": 116,
   "id": "1beb03e3",
   "metadata": {},
   "outputs": [],
   "source": [
    "from sklearn.metrics import accuracy_score, classification_report\n",
    "from sklearn.ensemble import RandomForestClassifier\n",
    "RandForest = RandomForestClassifier(n_estimators=100)\n",
    "RandForest = RandForest.fit(X_train, y_train)"
   ]
  },
  {
   "cell_type": "code",
   "execution_count": 117,
   "id": "5665ab38",
   "metadata": {},
   "outputs": [
    {
     "data": {
      "text/plain": [
       "0.8542"
      ]
     },
     "execution_count": 117,
     "metadata": {},
     "output_type": "execute_result"
    }
   ],
   "source": [
    "RandForest_predict = RandomForest.predict(X_test)\n",
    "accuracy_score(y_test, RandForest_predict)"
   ]
  },
  {
   "cell_type": "code",
   "execution_count": 118,
   "id": "47851e02",
   "metadata": {},
   "outputs": [
    {
     "name": "stdout",
     "output_type": "stream",
     "text": [
      "              precision    recall  f1-score   support\n",
      "\n",
      "           0       0.86      0.85      0.85      5037\n",
      "           1       0.85      0.86      0.85      4963\n",
      "\n",
      "    accuracy                           0.85     10000\n",
      "   macro avg       0.85      0.85      0.85     10000\n",
      "weighted avg       0.85      0.85      0.85     10000\n",
      "\n"
     ]
    }
   ],
   "source": [
    "print(classification_report(y_test, RandForest_predict))"
   ]
  },
  {
   "cell_type": "code",
   "execution_count": 119,
   "id": "3c40c617",
   "metadata": {},
   "outputs": [
    {
     "name": "stdout",
     "output_type": "stream",
     "text": [
      "This movie is so excellent! It got my adrenalin pumping. Begin again, dreams will come true finally. I was also touched by their love. When you want to give up, love will give you courage to move on. 1\n",
      "[0.0/50] => 0\n",
      "Эмоциональная окраска отзыва была предсказана ВЕРНО\n"
     ]
    }
   ],
   "source": [
    "def preprocess_test_review(review): \n",
    "    text = clean_text(review)\n",
    "    lemma = preprocess_text(text) # Токенизация и Лемматизация\n",
    "    \n",
    "    text = ' '.join(map(str, lemma))\n",
    "    x = []\n",
    "    x.append(text)\n",
    "    \n",
    "    x = Text2Vec(x)\n",
    "    predictors = x.columns[:]\n",
    "    result = x[predictors].values\n",
    "    return result\n",
    "\n",
    "test_review_ice = \"This movie is so excellent! It got my adrenalin pumping. Begin again, dreams will come true finally. I was also touched by their love. When you want to give up, love will give you courage to move on.\"\n",
    "target_review_ice = 1\n",
    "print(test_review_ice, target_review_ice)\n",
    "\n",
    "lemmatizer = WordNetLemmatizer()\n",
    "pre_review = preprocess_test_review(test_review_ice)\n",
    "pre_review.shape\n",
    "\n",
    "y_pred_review_ice = RandForest.predict(pre_review)\n",
    "if y_pred_review_ice[0] == target_review_ice:\n",
    "    print(\"Эмоциональная окраска отзыва была предсказана ВЕРНО\")\n",
    "else:\n",
    "    print(\"Отзыв предсказн НЕ ВЕРНО\")"
   ]
  },
  {
   "cell_type": "code",
   "execution_count": 123,
   "id": "e1376eaa",
   "metadata": {},
   "outputs": [
    {
     "name": "stdout",
     "output_type": "stream",
     "text": [
      "0.8758\n",
      "              precision    recall  f1-score   support\n",
      "\n",
      "           0       0.88      0.87      0.88      5037\n",
      "           1       0.87      0.89      0.88      4963\n",
      "\n",
      "    accuracy                           0.88     10000\n",
      "   macro avg       0.88      0.88      0.88     10000\n",
      "weighted avg       0.88      0.88      0.88     10000\n",
      "\n"
     ]
    }
   ],
   "source": [
    "from sklearn.linear_model import LogisticRegression\n",
    "\n",
    "log_regr = LogisticRegression(max_iter = 500)\n",
    "log_regr.fit(X_train, y_train)\n",
    "\n",
    "log_predict = log_regr.predict(X_test)\n",
    "print(accuracy_score(y_test, log_predict))\n",
    "print(classification_report(y_test, log_predict))"
   ]
  },
  {
   "cell_type": "code",
   "execution_count": 124,
   "id": "8f705eef",
   "metadata": {},
   "outputs": [
    {
     "name": "stdout",
     "output_type": "stream",
     "text": [
      "0.7755\n",
      "              precision    recall  f1-score   support\n",
      "\n",
      "           0       0.75      0.82      0.79      5037\n",
      "           1       0.80      0.73      0.76      4963\n",
      "\n",
      "    accuracy                           0.78     10000\n",
      "   macro avg       0.78      0.78      0.77     10000\n",
      "weighted avg       0.78      0.78      0.77     10000\n",
      "\n"
     ]
    }
   ],
   "source": [
    "from sklearn.preprocessing import StandardScaler\n",
    "\n",
    "StandSC = StandardScaler()\n",
    "\n",
    "X_train_NB = StandSC.fit_transform(X_train)\n",
    "X_test_NB = StandSC.transform(X_test)\n",
    "\n",
    "from sklearn.naive_bayes import GaussianNB\n",
    "\n",
    "NaiveBayes = GaussianNB()\n",
    "NaiveBayes.fit(X_train_NB, y_train)\n",
    "\n",
    "NaiveBayes_predict = NaiveBayes.predict(X_test_NB)\n",
    "print(accuracy_score(y_test, NaiveBayes_predict))\n",
    "print(classification_report(y_test, NaiveBayes_predict))"
   ]
  },
  {
   "cell_type": "code",
   "execution_count": null,
   "id": "dd0f82cc",
   "metadata": {},
   "outputs": [],
   "source": []
  }
 ],
 "metadata": {
  "kernelspec": {
   "display_name": "Python 3 (ipykernel)",
   "language": "python",
   "name": "python3"
  },
  "language_info": {
   "codemirror_mode": {
    "name": "ipython",
    "version": 3
   },
   "file_extension": ".py",
   "mimetype": "text/x-python",
   "name": "python",
   "nbconvert_exporter": "python",
   "pygments_lexer": "ipython3",
   "version": "3.9.7"
  }
 },
 "nbformat": 4,
 "nbformat_minor": 5
}
